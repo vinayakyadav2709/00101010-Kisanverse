{
 "cells": [
  {
   "cell_type": "markdown",
   "id": "bb53b8cf",
   "metadata": {},
   "source": [
    "fastapi.exceptions.HTTPException: 500: Error fetching weather: 500: Error fetching weather data: API Error 429: {\"reason\":\"Minutely API request limit exceeded. Please try again in one minute.\",\"error\":true}\n",
    "(.venv) yeet@yeet:/mnt/Windows-SSD/Users/yvavi/yeet"
   ]
  },
  {
   "cell_type": "code",
   "execution_count": 10,
   "id": "9988aa69",
   "metadata": {},
   "outputs": [
    {
     "name": "stdout",
     "output_type": "stream",
     "text": [
      "Number of rows with invalid latitude or longitude after removing NA: 225\n",
      "Result saved to result.csv\n"
     ]
    }
   ],
   "source": [
    "import pandas as pd\n",
    "\n",
    "# Load the CSV file\n",
    "input_file = \"input.csv\"  # Replace with your input file name\n",
    "output_file = \"result.csv\"  # Replace with your desired output file name\n",
    "\n",
    "# Read the CSV file with proper handling of mixed types\n",
    "df = pd.read_csv(input_file, dtype={\"latitude\": \"str\", \"longitude\": \"str\"}, low_memory=False)\n",
    "\n",
    "# Drop rows where latitude or longitude is NA\n",
    "df = df.dropna(subset=[\"latitude\", \"longitude\"])\n",
    "\n",
    "# Convert latitude and longitude to numeric, coercing invalid values to NaN\n",
    "df[\"latitude\"] = pd.to_numeric(df[\"latitude\"], errors=\"coerce\")\n",
    "df[\"longitude\"] = pd.to_numeric(df[\"longitude\"], errors=\"coerce\")\n",
    "\n",
    "# Filter out rows with invalid latitude or longitude\n",
    "invalid_lat_lon_df = df[~(df[\"latitude\"].between(-90, 90)) | ~(df[\"longitude\"].between(-180, 180))]\n",
    "invalid_lat_lon_count = invalid_lat_lon_df.shape[0]\n",
    "print(f\"Number of rows with invalid latitude or longitude after removing NA: {invalid_lat_lon_count}\")\n",
    "\n",
    "# Remove invalid latitude/longitude rows from the main DataFrame\n",
    "df = df[(df[\"latitude\"].between(-90, 90)) & (df[\"longitude\"].between(-180, 180))]\n",
    "\n",
    "# Drop rows where 'pincode' or 'statename' is NA\n",
    "df = df.dropna(subset=[\"pincode\", \"statename\"])\n",
    "\n",
    "# Group by 'statename' and calculate the average latitude and longitude, ignoring NA values\n",
    "state_avg = df.groupby(\"statename\", dropna=True)[[\"latitude\", \"longitude\"]].mean().reset_index()\n",
    "\n",
    "# Merge the average latitude and longitude back to the original DataFrame\n",
    "result = df[[\"pincode\", \"statename\"]].drop_duplicates()\n",
    "result = result.merge(state_avg, on=\"statename\", how=\"left\")\n",
    "\n",
    "# Save the result to a new CSV file\n",
    "result.to_csv(output_file, index=False)\n",
    "\n",
    "print(f\"Result saved to {output_file}\")"
   ]
  },
  {
   "cell_type": "code",
   "execution_count": 11,
   "id": "d6542474",
   "metadata": {
    "vscode": {
     "languageId": "ruby"
    }
   },
   "outputs": [
    {
     "name": "stdout",
     "output_type": "stream",
     "text": [
      "Unique latitude and longitude combinations saved to unique_lat_lon.csv\n"
     ]
    }
   ],
   "source": [
    "# Read the result.csv file\n",
    "import pandas as pd\n",
    "output_file = \"result.csv\"  # Replace with your output file name\n",
    "result_df = pd.read_csv(output_file)\n",
    "\n",
    "# Extract unique combinations of latitude and longitude\n",
    "unique_lat_lon = result_df[[\"latitude\", \"longitude\"]].drop_duplicates()\n",
    "\n",
    "# Save the unique combinations to a new CSV file\n",
    "unique_lat_lon.to_csv(\"unique_lat_lon.csv\", index=False)\n",
    "\n",
    "print(\"Unique latitude and longitude combinations saved to unique_lat_lon.csv\")"
   ]
  },
  {
   "cell_type": "code",
   "execution_count": 3,
   "id": "5612ce23",
   "metadata": {
    "vscode": {
     "languageId": "ruby"
    }
   },
   "outputs": [
    {
     "name": "stdout",
     "output_type": "stream",
     "text": [
      "Number of duplicate rows based on latitude and longitude: 0\n"
     ]
    }
   ],
   "source": [
    "import pandas as pd\n",
    "\n",
    "# Load the result.csv file\n",
    "output_file = \"unique_lat_lon.csv\"  # Replace with your output file name\n",
    "result_df = pd.read_csv(output_file)\n",
    "\n",
    "# Round latitude and longitude to 6 decimal places to avoid floating-point precision issues\n",
    "result_df[\"latitude\"] = result_df[\"latitude\"].round(6)\n",
    "result_df[\"longitude\"] = result_df[\"longitude\"].round(6)\n",
    "\n",
    "# Find duplicate rows based on latitude and longitude\n",
    "duplicates = result_df.duplicated(subset=[\"latitude\", \"longitude\"], keep=False)\n",
    "\n",
    "# Count the number of duplicate rows\n",
    "num_duplicates = duplicates.sum()\n",
    "\n",
    "print(f\"Number of duplicate rows based on latitude and longitude: {num_duplicates}\")"
   ]
  },
  {
   "cell_type": "code",
   "execution_count": 12,
   "id": "8078f614",
   "metadata": {
    "vscode": {
     "languageId": "ruby"
    }
   },
   "outputs": [
    {
     "name": "stdout",
     "output_type": "stream",
     "text": [
      "Number of rows with invalid latitude or longitude after removing NA: 0\n"
     ]
    }
   ],
   "source": [
    "\n",
    "df = pd.read_csv(\"unique_lat_lon.csv\")\n",
    "# Filter out rows with invalid latitude or longitude\n",
    "invalid_lat_lon_df = df[~(df[\"latitude\"].between(-90, 90)) | ~(df[\"longitude\"].between(-180, 180))]\n",
    "invalid_lat_lon_count = invalid_lat_lon_df.shape[0]\n",
    "print(f\"Number of rows with invalid latitude or longitude after removing NA: {invalid_lat_lon_count}\")"
   ]
  },
  {
   "cell_type": "code",
   "execution_count": 1,
   "id": "96b5f607",
   "metadata": {
    "vscode": {
     "languageId": "ruby"
    }
   },
   "outputs": [
    {
     "name": "stdout",
     "output_type": "stream",
     "text": [
      "Unique states saved to unique_states.json\n"
     ]
    }
   ],
   "source": [
    "import pandas as pd\n",
    "import json\n",
    "\n",
    "# Load the result.csv file\n",
    "input_file = \"result.csv\"  # Replace with your file path\n",
    "df = pd.read_csv(input_file)\n",
    "\n",
    "# Extract unique states\n",
    "unique_states = df[\"statename\"].dropna().unique().tolist()\n",
    "\n",
    "# Save the unique states to a JSON file\n",
    "output_file = \"unique_states.json\"\n",
    "with open(output_file, \"w\") as json_file:\n",
    "    json.dump({\"states\": unique_states}, json_file, indent=4)\n",
    "\n",
    "print(f\"Unique states saved to {output_file}\")"
   ]
  }
 ],
 "metadata": {
  "kernelspec": {
   "display_name": ".venv",
   "language": "python",
   "name": "python3"
  },
  "language_info": {
   "codemirror_mode": {
    "name": "ipython",
    "version": 3
   },
   "file_extension": ".py",
   "mimetype": "text/x-python",
   "name": "python",
   "nbconvert_exporter": "python",
   "pygments_lexer": "ipython3",
   "version": "3.12.3"
  }
 },
 "nbformat": 4,
 "nbformat_minor": 5
}
